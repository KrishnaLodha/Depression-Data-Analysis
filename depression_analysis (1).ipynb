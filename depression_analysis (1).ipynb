{
 "cells": [
  {
   "cell_type": "code",
   "execution_count": 1,
   "id": "411ebadd-6749-47e5-bdfe-53c7c96bce69",
   "metadata": {},
   "outputs": [],
   "source": [
    "import pandas as pd\n",
    "import seaborn as sns\n",
    "import numpy as np\n",
    "from sklearn.model_selection import train_test_split\n",
    "from sklearn.preprocessing import OneHotEncoder\n",
    "from sklearn.preprocessing import StandardScaler\n",
    "from sklearn.ensemble import RandomForestClassifier\n",
    "from sklearn.metrics import classification_report, confusion_matrix, accuracy_score\n",
    "from sklearn.linear_model import LogisticRegression\n",
    "from sklearn.preprocessing import LabelEncoder, StandardScaler\n",
    "from sklearn.metrics import confusion_matrix\n",
    "\n",
    "#data = pd.read_csv('/Users/krishna/Downloads/real time dataset.csv')\n",
    "data = pd.read_csv('https://drive.google.com/uc?id=1uTH3KaGybY6KAIQPww4nK0_ZMlytmdZW')"
   ]
  },
  {
   "cell_type": "code",
   "execution_count": 2,
   "id": "d8d023a8-784b-44ec-b6cf-edcc7661fbb2",
   "metadata": {},
   "outputs": [
    {
     "data": {
      "text/html": [
       "<div>\n",
       "<style scoped>\n",
       "    .dataframe tbody tr th:only-of-type {\n",
       "        vertical-align: middle;\n",
       "    }\n",
       "\n",
       "    .dataframe tbody tr th {\n",
       "        vertical-align: top;\n",
       "    }\n",
       "\n",
       "    .dataframe thead th {\n",
       "        text-align: right;\n",
       "    }\n",
       "</style>\n",
       "<table border=\"1\" class=\"dataframe\">\n",
       "  <thead>\n",
       "    <tr style=\"text-align: right;\">\n",
       "      <th></th>\n",
       "      <th>ID</th>\n",
       "      <th>Name</th>\n",
       "      <th>Gender</th>\n",
       "      <th>Age</th>\n",
       "      <th>Year</th>\n",
       "      <th>Smoking Status</th>\n",
       "      <th>Sleep Pattern?</th>\n",
       "      <th>Physical Activity</th>\n",
       "      <th>Work Load</th>\n",
       "      <th>Screen time</th>\n",
       "      <th>...</th>\n",
       "      <th>Dietary Habits</th>\n",
       "      <th>History of Mental illness</th>\n",
       "      <th>History of Substance Abuse</th>\n",
       "      <th>Family History of Depression</th>\n",
       "      <th>Chronic Medical Condition</th>\n",
       "      <th>How often do you hang out</th>\n",
       "      <th>Homesickness</th>\n",
       "      <th>Do you feel isolated or lonely even when you're surrounded by people</th>\n",
       "      <th>Have you ever sought professional help for mental health issues</th>\n",
       "      <th>How often do you talk about your mental health with other people?</th>\n",
       "    </tr>\n",
       "  </thead>\n",
       "  <tbody>\n",
       "    <tr>\n",
       "      <th>0</th>\n",
       "      <td>1</td>\n",
       "      <td>Aditi Ghosh</td>\n",
       "      <td>Female</td>\n",
       "      <td>19</td>\n",
       "      <td>2</td>\n",
       "      <td>Non-Smoker</td>\n",
       "      <td>Good</td>\n",
       "      <td>Moderate</td>\n",
       "      <td>Moderate</td>\n",
       "      <td>High</td>\n",
       "      <td>...</td>\n",
       "      <td>Moderate</td>\n",
       "      <td>No</td>\n",
       "      <td>No</td>\n",
       "      <td>Yes</td>\n",
       "      <td>No</td>\n",
       "      <td>Daily</td>\n",
       "      <td>Yes</td>\n",
       "      <td>Maybe</td>\n",
       "      <td>No</td>\n",
       "      <td>Rarely</td>\n",
       "    </tr>\n",
       "    <tr>\n",
       "      <th>1</th>\n",
       "      <td>2</td>\n",
       "      <td>Priyam Shree</td>\n",
       "      <td>Male</td>\n",
       "      <td>21</td>\n",
       "      <td>4</td>\n",
       "      <td>Non-Smoker</td>\n",
       "      <td>Poor</td>\n",
       "      <td>Moderate</td>\n",
       "      <td>High</td>\n",
       "      <td>High</td>\n",
       "      <td>...</td>\n",
       "      <td>Moderate</td>\n",
       "      <td>No</td>\n",
       "      <td>Yes</td>\n",
       "      <td>Yes</td>\n",
       "      <td>Yes</td>\n",
       "      <td>Weekly</td>\n",
       "      <td>No</td>\n",
       "      <td>Yes</td>\n",
       "      <td>Yes</td>\n",
       "      <td>Never</td>\n",
       "    </tr>\n",
       "    <tr>\n",
       "      <th>2</th>\n",
       "      <td>3</td>\n",
       "      <td>Deepa</td>\n",
       "      <td>Female</td>\n",
       "      <td>18</td>\n",
       "      <td>2</td>\n",
       "      <td>Non-Smoker</td>\n",
       "      <td>Poor</td>\n",
       "      <td>Moderate</td>\n",
       "      <td>High</td>\n",
       "      <td>High</td>\n",
       "      <td>...</td>\n",
       "      <td>Moderate</td>\n",
       "      <td>Yes</td>\n",
       "      <td>No</td>\n",
       "      <td>No</td>\n",
       "      <td>No</td>\n",
       "      <td>Never</td>\n",
       "      <td>Yes</td>\n",
       "      <td>Yes</td>\n",
       "      <td>No</td>\n",
       "      <td>Rarely</td>\n",
       "    </tr>\n",
       "    <tr>\n",
       "      <th>3</th>\n",
       "      <td>4</td>\n",
       "      <td>Lavina Peter</td>\n",
       "      <td>Female</td>\n",
       "      <td>20</td>\n",
       "      <td>2</td>\n",
       "      <td>Non-Smoker</td>\n",
       "      <td>Good</td>\n",
       "      <td>Moderate</td>\n",
       "      <td>High</td>\n",
       "      <td>High</td>\n",
       "      <td>...</td>\n",
       "      <td>Moderate</td>\n",
       "      <td>No</td>\n",
       "      <td>No</td>\n",
       "      <td>No</td>\n",
       "      <td>No</td>\n",
       "      <td>Daily</td>\n",
       "      <td>No</td>\n",
       "      <td>No</td>\n",
       "      <td>No</td>\n",
       "      <td>Rarely</td>\n",
       "    </tr>\n",
       "    <tr>\n",
       "      <th>4</th>\n",
       "      <td>5</td>\n",
       "      <td>Sharanya</td>\n",
       "      <td>Female</td>\n",
       "      <td>34</td>\n",
       "      <td>1</td>\n",
       "      <td>Non-Smoker</td>\n",
       "      <td>Good</td>\n",
       "      <td>Sedentary</td>\n",
       "      <td>High</td>\n",
       "      <td>High</td>\n",
       "      <td>...</td>\n",
       "      <td>Moderate</td>\n",
       "      <td>No</td>\n",
       "      <td>No</td>\n",
       "      <td>Yes</td>\n",
       "      <td>No</td>\n",
       "      <td>Weekly</td>\n",
       "      <td>Yes</td>\n",
       "      <td>No</td>\n",
       "      <td>No</td>\n",
       "      <td>Regularly</td>\n",
       "    </tr>\n",
       "  </tbody>\n",
       "</table>\n",
       "<p>5 rows × 21 columns</p>\n",
       "</div>"
      ],
      "text/plain": [
       "   ID           Name  Gender  Age  Year Smoking Status Sleep Pattern?  \\\n",
       "0   1    Aditi Ghosh  Female   19     2     Non-Smoker           Good   \n",
       "1   2   Priyam Shree    Male   21     4     Non-Smoker           Poor   \n",
       "2   3          Deepa  Female   18     2     Non-Smoker           Poor   \n",
       "3   4  Lavina Peter   Female   20     2     Non-Smoker           Good   \n",
       "4   5       Sharanya  Female   34     1     Non-Smoker           Good   \n",
       "\n",
       "  Physical Activity Work Load Screen time  ... Dietary Habits  \\\n",
       "0          Moderate  Moderate        High  ...       Moderate   \n",
       "1          Moderate      High        High  ...       Moderate   \n",
       "2          Moderate      High        High  ...       Moderate   \n",
       "3          Moderate      High        High  ...       Moderate   \n",
       "4         Sedentary      High        High  ...       Moderate   \n",
       "\n",
       "  History of Mental illness History of Substance Abuse  \\\n",
       "0                        No                         No   \n",
       "1                        No                        Yes   \n",
       "2                       Yes                         No   \n",
       "3                        No                         No   \n",
       "4                        No                         No   \n",
       "\n",
       "  Family History of Depression Chronic Medical Condition  \\\n",
       "0                          Yes                        No   \n",
       "1                          Yes                       Yes   \n",
       "2                           No                        No   \n",
       "3                           No                        No   \n",
       "4                          Yes                        No   \n",
       "\n",
       "  How often do you hang out Homesickness  \\\n",
       "0                     Daily          Yes   \n",
       "1                    Weekly           No   \n",
       "2                     Never          Yes   \n",
       "3                     Daily           No   \n",
       "4                    Weekly          Yes   \n",
       "\n",
       "  Do you feel isolated or lonely even when you're surrounded by people  \\\n",
       "0                                              Maybe                     \n",
       "1                                                Yes                     \n",
       "2                                                Yes                     \n",
       "3                                                 No                     \n",
       "4                                                 No                     \n",
       "\n",
       "  Have you ever sought professional help for mental health issues  \\\n",
       "0                                                 No                \n",
       "1                                                Yes                \n",
       "2                                                 No                \n",
       "3                                                 No                \n",
       "4                                                 No                \n",
       "\n",
       "  How often do you talk about your mental health with other people?  \n",
       "0                                             Rarely                 \n",
       "1                                              Never                 \n",
       "2                                             Rarely                 \n",
       "3                                             Rarely                 \n",
       "4                                          Regularly                 \n",
       "\n",
       "[5 rows x 21 columns]"
      ]
     },
     "execution_count": 2,
     "metadata": {},
     "output_type": "execute_result"
    }
   ],
   "source": [
    "data.head()"
   ]
  },
  {
   "cell_type": "code",
   "execution_count": 3,
   "id": "14c197a1-828c-4d73-ad38-551d72ed2ff3",
   "metadata": {},
   "outputs": [
    {
     "data": {
      "image/png": "[encoded data removed]",
      "text/plain": [
       "<Figure size 640x480 with 1 Axes>"
      ]
     },
     "metadata": {},
     "output_type": "display_data"
    }
   ],
   "source": [
    "import matplotlib.pyplot as plt\n",
    "x=data['Age']\n",
    "y=data['Year']\n",
    "\n",
    "plt.scatter(x,y)\n",
    "plt.show()"
   ]
  },
  {
   "cell_type": "code",
   "execution_count": 4,
   "id": "62bce40f-d963-40b9-abc9-07c96ca32f09",
   "metadata": {},
   "outputs": [
    {
     "data": {
      "text/html": [
       "<div>\n",
       "<style scoped>\n",
       "    .dataframe tbody tr th:only-of-type {\n",
       "        vertical-align: middle;\n",
       "    }\n",
       "\n",
       "    .dataframe tbody tr th {\n",
       "        vertical-align: top;\n",
       "    }\n",
       "\n",
       "    .dataframe thead th {\n",
       "        text-align: right;\n",
       "    }\n",
       "</style>\n",
       "<table border=\"1\" class=\"dataframe\">\n",
       "  <thead>\n",
       "    <tr style=\"text-align: right;\">\n",
       "      <th></th>\n",
       "      <th>ID</th>\n",
       "      <th>Age</th>\n",
       "      <th>Year</th>\n",
       "    </tr>\n",
       "  </thead>\n",
       "  <tbody>\n",
       "    <tr>\n",
       "      <th>count</th>\n",
       "      <td>103.000000</td>\n",
       "      <td>103.000000</td>\n",
       "      <td>103.000000</td>\n",
       "    </tr>\n",
       "    <tr>\n",
       "      <th>mean</th>\n",
       "      <td>52.000000</td>\n",
       "      <td>19.922330</td>\n",
       "      <td>2.097087</td>\n",
       "    </tr>\n",
       "    <tr>\n",
       "      <th>std</th>\n",
       "      <td>29.877528</td>\n",
       "      <td>5.017009</td>\n",
       "      <td>0.985329</td>\n",
       "    </tr>\n",
       "    <tr>\n",
       "      <th>min</th>\n",
       "      <td>1.000000</td>\n",
       "      <td>18.000000</td>\n",
       "      <td>1.000000</td>\n",
       "    </tr>\n",
       "    <tr>\n",
       "      <th>25%</th>\n",
       "      <td>26.500000</td>\n",
       "      <td>18.000000</td>\n",
       "      <td>2.000000</td>\n",
       "    </tr>\n",
       "    <tr>\n",
       "      <th>50%</th>\n",
       "      <td>52.000000</td>\n",
       "      <td>19.000000</td>\n",
       "      <td>2.000000</td>\n",
       "    </tr>\n",
       "    <tr>\n",
       "      <th>75%</th>\n",
       "      <td>77.500000</td>\n",
       "      <td>19.500000</td>\n",
       "      <td>2.000000</td>\n",
       "    </tr>\n",
       "    <tr>\n",
       "      <th>max</th>\n",
       "      <td>103.000000</td>\n",
       "      <td>57.000000</td>\n",
       "      <td>11.000000</td>\n",
       "    </tr>\n",
       "  </tbody>\n",
       "</table>\n",
       "</div>"
      ],
      "text/plain": [
       "               ID         Age        Year\n",
       "count  103.000000  103.000000  103.000000\n",
       "mean    52.000000   19.922330    2.097087\n",
       "std     29.877528    5.017009    0.985329\n",
       "min      1.000000   18.000000    1.000000\n",
       "25%     26.500000   18.000000    2.000000\n",
       "50%     52.000000   19.000000    2.000000\n",
       "75%     77.500000   19.500000    2.000000\n",
       "max    103.000000   57.000000   11.000000"
      ]
     },
     "execution_count": 4,
     "metadata": {},
     "output_type": "execute_result"
    }
   ],
   "source": [
    "data.describe()"
   ]
  },
  {
   "cell_type": "code",
   "execution_count": 17,
   "id": "29b147af-0c92-46f5-80a6-af4254d2cf37",
   "metadata": {},
   "outputs": [
    {
     "data": {
      "text/plain": [
       "ID                                                                      0\n",
       "Name                                                                    0\n",
       "Gender                                                                  0\n",
       "Age                                                                     0\n",
       "Year                                                                    0\n",
       "Smoking Status                                                          0\n",
       "Sleep Pattern?                                                          0\n",
       "Physical Activity                                                       0\n",
       "Work Load                                                               0\n",
       "Screen time                                                             0\n",
       "Alcohol Consumption?                                                    0\n",
       "Dietary Habits                                                          0\n",
       "History of Mental illness                                               0\n",
       "History of Substance Abuse                                              0\n",
       "Family History of Depression                                            0\n",
       "Chronic Medical Condition                                               0\n",
       "How often do you hang out                                               0\n",
       "Homesickness                                                            0\n",
       "Do you feel isolated or lonely even when you're surrounded by people    0\n",
       "Have you ever sought professional help for mental health issues         0\n",
       "How often do you talk about your mental health with other people?       0\n",
       "dtype: int64"
      ]
     },
     "execution_count": 17,
     "metadata": {},
     "output_type": "execute_result"
    }
   ],
   "source": [
    "data.isnull().sum()"
   ]
  },
  {
   "cell_type": "code",
   "execution_count": 70,
   "id": "c13e5e31-8bda-499f-8b39-6a405a0b285e",
   "metadata": {},
   "outputs": [
    {
     "data": {
      "image/png": "[encoded data removed]",
      "text/plain": [
       "<Figure size 1000x600 with 1 Axes>"
      ]
     },
     "metadata": {},
     "output_type": "display_data"
    }
   ],
   "source": [
    "plt.figure(figsize=(10, 6))\n",
    "sns.histplot(data['Age'], kde=True, bins=30)\n",
    "plt.title('Age Distribution')\n",
    "plt.xlabel('Age')\n",
    "plt.ylabel('Frequency')\n",
    "plt.show()"
   ]
  },
  {
   "cell_type": "code",
   "execution_count": 72,
   "id": "f823cfb9-54cd-42f0-9802-3c18635e5e3b",
   "metadata": {},
   "outputs": [
    {
     "data": {
      "text/plain": [
       "Smoking Status\n",
       "Non-Smoker    99\n",
       "Smoker         3\n",
       "Former         1\n",
       "Name: count, dtype: int64"
      ]
     },
     "execution_count": 72,
     "metadata": {},
     "output_type": "execute_result"
    }
   ],
   "source": [
    "smokers = data[\"Smoking Status\"].value_counts()\n",
    "smokers "
   ]
  },
  {
   "cell_type": "code",
   "execution_count": 74,
   "id": "61e12344-c042-479d-b297-ea381c2e205d",
   "metadata": {},
   "outputs": [
    {
     "data": {
      "text/plain": [
       "How often do you talk about your mental health with other people?\n",
       "Rarely       53\n",
       "Never        40\n",
       "Regularly    10\n",
       "Name: count, dtype: int64"
      ]
     },
     "execution_count": 74,
     "metadata": {},
     "output_type": "execute_result"
    }
   ],
   "source": [
    "communication=data[\"How often do you talk about your mental health with other people?\"].value_counts()\n",
    "communication"
   ]
  },
  {
   "cell_type": "code",
   "execution_count": 76,
   "id": "4ad7bd23-3194-4f3e-883c-3239a9e213f6",
   "metadata": {},
   "outputs": [
    {
     "name": "stdout",
     "output_type": "stream",
     "text": [
      "\n",
      "Class Distribution:\n",
      "Depression_Risk\n",
      "1    62\n",
      "0    41\n",
      "Name: count, dtype: int64\n",
      "\n",
      "Logistic Regression Results:\n",
      "              precision    recall  f1-score   support\n",
      "\n",
      "           0       0.88      0.88      0.88         8\n",
      "           1       0.92      0.92      0.92        13\n",
      "\n",
      "    accuracy                           0.90        21\n",
      "   macro avg       0.90      0.90      0.90        21\n",
      "weighted avg       0.90      0.90      0.90        21\n",
      "\n",
      "Logistic Regression Accuracy: 0.90\n",
      "\n",
      "K-Nearest Neighbors (KNN) Results:\n",
      "              precision    recall  f1-score   support\n",
      "\n",
      "           0       0.58      0.88      0.70         8\n",
      "           1       0.89      0.62      0.73        13\n",
      "\n",
      "    accuracy                           0.71        21\n",
      "   macro avg       0.74      0.75      0.71        21\n",
      "weighted avg       0.77      0.71      0.72        21\n",
      "\n",
      "KNN Accuracy: 0.71\n"
     ]
    }
   ],
   "source": [
    "import pandas as pd\n",
    "import numpy as np\n",
    "from sklearn.model_selection import train_test_split, cross_val_score\n",
    "from sklearn.preprocessing import LabelEncoder, StandardScaler\n",
    "from sklearn.linear_model import LogisticRegression\n",
    "from sklearn.neighbors import KNeighborsClassifier\n",
    "from sklearn.metrics import classification_report, accuracy_score\n",
    "\n",
    "#data = data.drop(columns=['Name'], errors='ignore')\n",
    "\n",
    "data['Depression_Risk'] = np.where(\n",
    "    (data['Sleep Pattern?'] == 'Poor') |\n",
    "    (data.get('Do you feel isolated or lonely even when you are surrounded by people') == 'Yes') |\n",
    "    (data['Physical Activity'] == 'Sedentary') |\n",
    "    (data['Alcohol Consumption?'] == 'Regularly') |\n",
    "    (data['Work Load'] == 'High'), \n",
    "    1, 0\n",
    ")\n",
    "\n",
    "\n",
    "\n",
    "print(\"\\nClass Distribution:\")\n",
    "print(data['Depression_Risk'].value_counts())\n",
    "\n",
    "X = data.drop('Depression_Risk', axis=1)\n",
    "y = data['Depression_Risk']\n",
    "\n",
    "\n",
    "label_encoders = {}\n",
    "for column in X.select_dtypes(include=['object']).columns:\n",
    "    le = LabelEncoder()\n",
    "    X[column] = le.fit_transform(X[column])\n",
    "    label_encoders[column] = le\n",
    "\n",
    "\n",
    "X_train, X_test, y_train, y_test = train_test_split(\n",
    "    X, y, test_size=0.2, random_state=42, stratify=y\n",
    ")\n",
    "\n",
    "\n",
    "scaler = StandardScaler()\n",
    "X_train_scaled = scaler.fit_transform(X_train)\n",
    "X_test_scaled = scaler.transform(X_test)\n",
    "\n",
    "\n",
    "print(\"\\nLogistic Regression Results:\")\n",
    "log_reg = LogisticRegression(random_state=42, class_weight='balanced')\n",
    "log_reg.fit(X_train_scaled, y_train)\n",
    "y_pred_log = log_reg.predict(X_test_scaled)\n",
    "\n",
    "print(classification_report(y_test, y_pred_log))\n",
    "print(f\"Logistic Regression Accuracy: {accuracy_score(y_test, y_pred_log):.2f}\")\n",
    "\n",
    "print(\"\\nK-Nearest Neighbors (KNN) Results:\")\n",
    "knn = KNeighborsClassifier(n_neighbors=5)\n",
    "knn.fit(X_train_scaled, y_train)\n",
    "y_pred_knn = knn.predict(X_test_scaled)\n",
    "\n",
    "print(classification_report(y_test, y_pred_knn))\n",
    "print(f\"KNN Accuracy: {accuracy_score(y_test, y_pred_knn):.2f}\")\n"
   ]
  },
  {
   "cell_type": "code",
   "execution_count": 78,
   "id": "587680b4-9084-4e9e-9279-bed645a2e5f3",
   "metadata": {},
   "outputs": [
    {
     "data": {
      "image/png": "[encoded data removed]",
      "text/plain": [
       "<Figure size 600x400 with 1 Axes>"
      ]
     },
     "metadata": {},
     "output_type": "display_data"
    }
   ],
   "source": [
    "import pandas as pd\n",
    "import numpy as np\n",
    "import matplotlib.pyplot as plt\n",
    "import seaborn as sns\n",
    "\n",
    "data['Depression_Risk'] = np.where(\n",
    "    (data['Sleep Pattern?'] == 'Poor') |\n",
    "    (data.get('Do you feel isolated or lonely even when you are surrounded by people') == 'Yes') |\n",
    "    (data['Physical Activity'] == 'Sedentary') |\n",
    "    (data['Alcohol Consumption?'] == 'Regularly') |\n",
    "    (data['Work Load'] == 'High'), \n",
    "    1, 0\n",
    ")\n",
    "\n",
    "plt.figure(figsize=(6, 4))\n",
    "sns.countplot(x='Depression_Risk', data=data)\n",
    "plt.title('Depression Risk Distribution')\n",
    "plt.xlabel('Depression Risk (0: Low, 1: High)')\n",
    "plt.ylabel('Count')\n",
    "plt.show()\n"
   ]
  },
  {
   "cell_type": "code",
   "execution_count": 80,
   "id": "15bffa6e-d714-4802-9ebf-dafefa4cd02a",
   "metadata": {},
   "outputs": [
    {
     "data": {
      "image/png": "[encoded data removed]",
      "text/plain": [
       "<Figure size 800x600 with 1 Axes>"
      ]
     },
     "metadata": {},
     "output_type": "display_data"
    }
   ],
   "source": [
    "\n",
    "X = data.drop('Depression_Risk', axis=1)\n",
    "y = data['Depression_Risk']\n",
    "\n",
    "\n",
    "label_encoders = {}\n",
    "for column in X.select_dtypes(include=['object']).columns:\n",
    "    le = LabelEncoder()\n",
    "    X[column] = le.fit_transform(X[column])\n",
    "    label_encoders[column] = le  # Save the encoder if you need to inverse later\n",
    "\n",
    "\n",
    "scaler = StandardScaler()\n",
    "X = scaler.fit_transform(X)  # Scale the features\n",
    "\n",
    "\n",
    "X_train, X_test, y_train, y_test = train_test_split(X, y, test_size=0.2, random_state=42)\n",
    "\n",
    "\n",
    "model = LogisticRegression(max_iter=200)  # Increased max_iter to 200\n",
    "model.fit(X_train, y_train)\n",
    "\n",
    "\n",
    "y_pred = model.predict(X_test)\n",
    "\n",
    "\n",
    "cm = confusion_matrix(y_test, y_pred)\n",
    "\n",
    "\n",
    "plt.figure(figsize=(8, 6))\n",
    "sns.heatmap(cm, annot=True, fmt='d', cmap='Blues', cbar=False,\n",
    "            xticklabels=['Low Risk (0)', 'High Risk (1)'],\n",
    "            yticklabels=['Low Risk (0)', 'High Risk (1)'])\n",
    "plt.title('Confusion Matrix')\n",
    "plt.xlabel('Predicted')\n",
    "plt.ylabel('Actual')\n",
    "plt.show()\n"
   ]
  },
  {
   "cell_type": "code",
   "execution_count": 82,
   "id": "d494796e-a477-479c-a7ed-c9023c0d0cc2",
   "metadata": {},
   "outputs": [
    {
     "name": "stdout",
     "output_type": "stream",
     "text": [
      "Index(['ID', 'Name', 'Gender', 'Age', 'Year', 'Smoking Status',\n",
      "       'Sleep Pattern?', 'Physical Activity', 'Work Load', 'Screen time',\n",
      "       'Alcohol Consumption?', 'Dietary Habits', 'History of Mental illness',\n",
      "       'History of Substance Abuse', 'Family History of Depression',\n",
      "       'Chronic Medical Condition', 'How often do you hang out',\n",
      "       'Homesickness',\n",
      "       'Do you feel isolated or lonely even when you're surrounded by people',\n",
      "       'Have you ever sought professional help for mental health issues',\n",
      "       'How often do you talk about your mental health with other people?',\n",
      "       'Depression_Risk'],\n",
      "      dtype='object')\n"
     ]
    }
   ],
   "source": [
    "print(data.columns)  \n"
   ]
  },
  {
   "cell_type": "code",
   "execution_count": 84,
   "id": "b0519cbe-9717-4d30-b2a1-9b780c67b5fe",
   "metadata": {},
   "outputs": [
    {
     "data": {
      "image/png": "[encoded data removed]",
      "text/plain": [
       "<Figure size 640x480 with 1 Axes>"
      ]
     },
     "metadata": {},
     "output_type": "display_data"
    }
   ],
   "source": [
    "data.groupby('Sleep Pattern?')['Depression_Risk'].mean().plot(kind='bar', color='orange')\n",
    "plt.title('Depression Risk by Sleep Pattern')\n",
    "plt.xlabel('Sleep Pattern')\n",
    "plt.ylabel('Average Depression Risk')\n",
    "plt.show()\n"
   ]
  },
  {
   "cell_type": "code",
   "execution_count": 86,
   "id": "7168ed5f-5d5d-416d-a5ec-55bc180cc0d5",
   "metadata": {},
   "outputs": [
    {
     "data": {
      "image/png": "[encoded data removed]",
      "text/plain": [
       "<Figure size 640x480 with 1 Axes>"
      ]
     },
     "metadata": {},
     "output_type": "display_data"
    }
   ],
   "source": [
    "import seaborn as sns\n",
    "\n",
    "#sns.countplot(data=data, x='Homesickness', hue='Depression_Risk', palette='pastel')\n",
    "#plt.title('Depression Risk vs. Homesickness')\n",
    "#plt.show()\n",
    "\n",
    "sns.countplot(data=data, x='Do you feel isolated or lonely even when you\\'re surrounded by people', \n",
    "              hue='Depression_Risk', palette='muted')\n",
    "plt.title('Depression Risk vs. Feeling Isolated')\n",
    "plt.show()\n"
   ]
  },
  {
   "cell_type": "code",
   "execution_count": 88,
   "id": "ffdc3e46-662e-46ec-a8a9-6c2e8402d282",
   "metadata": {},
   "outputs": [
    {
     "data": {
      "image/png": "[encoded data removed]",
      "text/plain": [
       "<Figure size 640x480 with 1 Axes>"
      ]
     },
     "metadata": {},
     "output_type": "display_data"
    }
   ],
   "source": [
    "data.groupby('Work Load')['Depression_Risk'].mean().plot(kind='bar', color='teal')\n",
    "plt.title('Depression Risk by Work Load')\n",
    "plt.xlabel('Work Load')\n",
    "plt.ylabel('Average Depression Risk')\n",
    "plt.show()\n"
   ]
  },
  {
   "cell_type": "code",
   "execution_count": 90,
   "id": "ed69b0f7-6064-41f5-a340-5ca017bbdbe7",
   "metadata": {},
   "outputs": [
    {
     "data": {
      "text/plain": [
       "<Axes: >"
      ]
     },
     "execution_count": 90,
     "metadata": {},
     "output_type": "execute_result"
    },
    {
     "data": {
      "image/png": "[encoded data removed]",
      "text/plain": [
       "<Figure size 640x480 with 1 Axes>"
      ]
     },
     "metadata": {},
     "output_type": "display_data"
    }
   ],
   "source": [
    "data['Age'].hist()\n"
   ]
  },
  {
   "cell_type": "code",
   "execution_count": 92,
   "id": "105f1a74-b297-47d6-b747-8edc157435b1",
   "metadata": {},
   "outputs": [
    {
     "name": "stdout",
     "output_type": "stream",
     "text": [
      "\n",
      "Class Distribution:\n",
      "Depression_Risk\n",
      "1    89\n",
      "0    14\n",
      "Name: count, dtype: int64\n",
      "\n",
      "Logistic Regression Results:\n",
      "              precision    recall  f1-score   support\n",
      "\n",
      "           0       0.75      1.00      0.86         3\n",
      "           1       1.00      0.94      0.97        18\n",
      "\n",
      "    accuracy                           0.95        21\n",
      "   macro avg       0.88      0.97      0.91        21\n",
      "weighted avg       0.96      0.95      0.96        21\n",
      "\n",
      "Logistic Regression Accuracy: 0.95\n"
     ]
    }
   ],
   "source": [
    "import pandas as pd\n",
    "import numpy as np\n",
    "from sklearn.model_selection import train_test_split\n",
    "from sklearn.preprocessing import LabelEncoder, StandardScaler\n",
    "from sklearn.linear_model import LogisticRegression\n",
    "from sklearn.metrics import classification_report, accuracy_score\n",
    "\n",
    "data = pd.read_csv('/Users/krishna/Downloads/research new arjo and krishnu.csv')\n",
    "\n",
    "\n",
    "data['Depression_Risk'] = np.where(\n",
    "    (data['Sleep Pattern?'] == 'Poor') |\n",
    "    (data['Work Load'] == 'High') |\n",
    "    (data['Physical Activity'] == 'Sedentary') |\n",
    "    (data['Alcohol Consumption?'] == 'Regularly') |\n",
    "    (data['Screen time'] == 'High') |\n",
    "    (data['History of Mental illness'] == 'Yes') |\n",
    "    (data['History of Substance Abuse'] == 'Yes') |\n",
    "    (data['Family History of Depression'] == 'Yes') |\n",
    "    (data['Homesickness'] == 'Yes'), \n",
    "    1, 0\n",
    ")\n",
    "\n",
    "# Print class distribution\n",
    "print(\"\\nClass Distribution:\")\n",
    "print(data['Depression_Risk'].value_counts())\n",
    "\n",
    "# Separate features and target\n",
    "X = data.drop('Depression_Risk', axis=1)\n",
    "y = data['Depression_Risk']\n",
    "\n",
    "# Encode categorical features\n",
    "label_encoders = {}\n",
    "for column in X.select_dtypes(include=['object']).columns:\n",
    "    le = LabelEncoder()\n",
    "    X[column] = le.fit_transform(X[column])\n",
    "    label_encoders[column] = le\n",
    "\n",
    "# Train-test split\n",
    "X_train, X_test, y_train, y_test = train_test_split(\n",
    "    X, y, test_size=0.2, random_state=42, stratify=y\n",
    ")\n",
    "        \n",
    "# Standardize features\n",
    "scaler = StandardScaler()\n",
    "X_train_scaled = scaler.fit_transform(X_train)\n",
    "X_test_scaled = scaler.transform(X_test)\n",
    "\n",
    "# Train Logistic Regression model\n",
    "log_reg = LogisticRegression(random_state=42, class_weight='balanced')\n",
    "log_reg.fit(X_train_scaled, y_train)\n",
    "\n",
    "# Make predictions and print results\n",
    "y_pred_log = log_reg.predict(X_test_scaled)\n",
    "\n",
    "print(\"\\nLogistic Regression Results:\")\n",
    "print(classification_report(y_test, y_pred_log))\n",
    "print(f\"Logistic Regression Accuracy: {accuracy_score(y_test, y_pred_log):.2f}\")\n"
   ]
  },
  {
   "cell_type": "code",
   "execution_count": 96,
   "id": "e4c1ff35-9c36-4846-997c-96543bf2f5ab",
   "metadata": {},
   "outputs": [
    {
     "name": "stdin",
     "output_type": "stream",
     "text": [
      "Enter the name of the person:  Sharanya\n"
     ]
    },
    {
     "name": "stdout",
     "output_type": "stream",
     "text": [
      "\n",
      "Recommendations for Sharanya:\n",
      "Incorporate physical activities like walking, yoga, or swimming.\n",
      "Manage workload effectively and take regular breaks to avoid burnout.\n",
      "Limit screen time and take breaks to protect mental health.\n",
      "Be mindful of genetic predisposition and take proactive steps for well-being.\n",
      "Stay connected with loved ones to alleviate homesickness.\n"
     ]
    }
   ],
   "source": [
    "def give_recommendations(row):\n",
    "    recommendations = []\n",
    "\n",
    "    if row['Smoking Status'] == 'Yes':\n",
    "        recommendations.append(\"Consider quitting smoking to improve mental health.\")\n",
    "    \n",
    "    if row['Sleep Pattern?'] == 'Poor':\n",
    "        recommendations.append(\"Try to establish a healthy sleep routine.\")\n",
    "    \n",
    "    if row['Physical Activity'] == 'Sedentary':\n",
    "        recommendations.append(\"Incorporate physical activities like walking, yoga, or swimming.\")\n",
    "\n",
    "    if row['Alcohol Consumption?'] == 'Regularly':\n",
    "        recommendations.append(\"Reduce alcohol consumption to enhance mental well-being.\")\n",
    "    \n",
    "    if row['Work Load'] == 'High':\n",
    "        recommendations.append(\"Manage workload effectively and take regular breaks to avoid burnout.\")\n",
    "    \n",
    "    if row['Screen time'] == 'High':\n",
    "        recommendations.append(\"Limit screen time and take breaks to protect mental health.\")\n",
    "    \n",
    "    if row['History of Mental illness'] == 'Yes':\n",
    "        recommendations.append(\"Continue monitoring your mental health and seek professional help when needed.\")\n",
    "    \n",
    "    if row['History of Substance Abuse'] == 'Yes':\n",
    "        recommendations.append(\"Seek support to prevent relapse and maintain recovery.\")\n",
    "    \n",
    "    if row['Family History of Depression'] == 'Yes':\n",
    "        recommendations.append(\"Be mindful of genetic predisposition and take proactive steps for well-being.\")\n",
    "    \n",
    "    if row['Homesickness'] == 'Yes':\n",
    "        recommendations.append(\"Stay connected with loved ones to alleviate homesickness.\")\n",
    "    \n",
    "    if not recommendations:\n",
    "        return \"You're on the right track! Keep maintaining your lifestyle.\"\n",
    "\n",
    "    return \"\\n\".join(recommendations)\n",
    "\n",
    "\n",
    "def get_recommendations_for_person(name, data, model, scaler, label_encoders):\n",
    "    # Find the person's data based on the name\n",
    "    person_data = data[data['Name'].str.lower() == name.lower()]\n",
    "\n",
    "    if person_data.empty:\n",
    "        print(f\"No data found for {name}. Please check the name and try again.\")\n",
    "        return\n",
    "\n",
    "    # Preprocess the person's data (encode and scale)\n",
    "    X = person_data.drop('Depression_Risk', axis=1)\n",
    "\n",
    "    for column, le in label_encoders.items():\n",
    "        X[column] = le.transform(X[column])\n",
    "\n",
    "    X_scaled = scaler.transform(X)\n",
    "\n",
    "    # Predict depression risk\n",
    "    prediction = model.predict(X_scaled)[0]\n",
    "\n",
    "    print(f\"\\nRecommendations for {name}:\")\n",
    "    if prediction == 1:  # High Depression Risk\n",
    "        print(give_recommendations(person_data.iloc[0]))\n",
    "    else:\n",
    "        print(f\"{name} is not at high risk of depression. Keep up the good work!\")\n",
    "\n",
    "name = input(\"Enter the name of the person: \")\n",
    "get_recommendations_for_person(name, data, log_reg, scaler, label_encoders)\n"
   ]
  },
  {
   "cell_type": "code",
   "execution_count": 77,
   "id": "f31fa7d5-969a-4f4f-9e05-407ea859fc39",
   "metadata": {},
   "outputs": [
    {
     "data": {
      "image/png": "[encoded data removed]",
      "text/plain": [
       "<Figure size 800x600 with 1 Axes>"
      ]
     },
     "metadata": {},
     "output_type": "display_data"
    }
   ],
   "source": [
    "\n",
    "X = data.drop('Depression_Risk', axis=1)\n",
    "y = data['Depression_Risk']\n",
    "\n",
    "\n",
    "label_encoders = {}\n",
    "for column in X.select_dtypes(include=['object']).columns:\n",
    "    le = LabelEncoder()\n",
    "    X[column] = le.fit_transform(X[column])\n",
    "    label_encoders[column] = le  # Save the encoder if you need to inverse later\n",
    "\n",
    "\n",
    "scaler = StandardScaler()\n",
    "X = scaler.fit_transform(X)  # Scale the features\n",
    "\n",
    "\n",
    "X_train, X_test, y_train, y_test = train_test_split(X, y, test_size=0.2, random_state=42)\n",
    "\n",
    "\n",
    "model = LogisticRegression(max_iter=200)  # Increased max_iter to 200\n",
    "model.fit(X_train, y_train)\n",
    "\n",
    "\n",
    "y_pred = model.predict(X_test)\n",
    "\n",
    "\n",
    "cm = confusion_matrix(y_test, y_pred)\n",
    "\n",
    "\n",
    "plt.figure(figsize=(8, 6))\n",
    "sns.heatmap(cm, annot=True, fmt='d', cmap='Blues', cbar=False,\n",
    "            xticklabels=['Low Risk (0)', 'High Risk (1)'],\n",
    "            yticklabels=['Low Risk (0)', 'High Risk (1)'])\n",
    "plt.title('Confusion Matrix')\n",
    "plt.xlabel('Predicted')\n",
    "plt.ylabel('Actual')\n",
    "plt.show()\n"
   ]
  },
  {
   "cell_type": "code",
   "execution_count": 79,
   "id": "0d57f164-6b2d-403d-93e4-fdefbd4e25fc",
   "metadata": {},
   "outputs": [
    {
     "name": "stdout",
     "output_type": "stream",
     "text": [
      "\n",
      "People who aren't close to depression:\n",
      "                        Name  Age\n",
      "10              Kabir Gupta    19\n",
      "22             Shiwank Kumar   19\n",
      "32             Bhavya Suman    20\n",
      "52                  Tejaswi    20\n",
      "59            Sneha Trivedi    19\n",
      "60            Harsh Trivedi    20\n",
      "63      KRISHNAPRIYA V NAIR    19\n",
      "64      KRISHNAPRIYA V NAIR    19\n",
      "67  Priyanshu Shekhar Behera   20\n",
      "72                   Soneesh   18\n",
      "76           V Naga Preetam    18\n",
      "86       karthikeyan pandita   19\n",
      "93         N chethan krishna   18\n",
      "99                   Thorani   18\n"
     ]
    }
   ],
   "source": [
    "not_depressed = data[data['Depression_Risk'] == 0]\n",
    "\n",
    "print(\"\\nPeople who aren't close to depression:\")\n",
    "print(not_depressed[['Name', 'Age']])\n"
   ]
  },
  {
   "cell_type": "code",
   "execution_count": 98,
   "id": "1f6e7841-f5d1-48d7-82ad-8af1992488c2",
   "metadata": {},
   "outputs": [
    {
     "name": "stdout",
     "output_type": "stream",
     "text": [
      "ID 5: Depressed\n"
     ]
    }
   ],
   "source": [
    "print(f\"ID 5: {'Depressed' if data.loc[data['ID'] == 5, 'Depression_Risk'].values[0] == 1 else 'Not Depressed'}\")\n"
   ]
  },
  {
   "cell_type": "code",
   "execution_count": null,
   "id": "67e5bd06-3c8d-475a-ad8a-00d1d6932ae3",
   "metadata": {},
   "outputs": [],
   "source": []
  }
 ],
 "metadata": {
  "kernelspec": {
   "display_name": "Python 3 (ipykernel)",
   "language": "python",
   "name": "python3"
  },
  "language_info": {
   "codemirror_mode": {
    "name": "ipython",
    "version": 3
   },
   "file_extension": ".py",
   "mimetype": "text/x-python",
   "name": "python",
   "nbconvert_exporter": "python",
   "pygments_lexer": "ipython3",
   "version": "3.12.4"
  }
 },
 "nbformat": 4,
 "nbformat_minor": 5
}
